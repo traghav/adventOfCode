{
  "nbformat": 4,
  "nbformat_minor": 0,
  "metadata": {
    "colab": {
      "name": "2018_12.ipynb",
      "version": "0.3.2",
      "provenance": [],
      "include_colab_link": true
    },
    "kernelspec": {
      "name": "python3",
      "display_name": "Python 3"
    }
  },
  "cells": [
    {
      "cell_type": "markdown",
      "metadata": {
        "id": "view-in-github",
        "colab_type": "text"
      },
      "source": [
        "<a href=\"https://colab.research.google.com/github/traghav/adventOfCode/blob/master/2018_12.ipynb\" target=\"_parent\"><img src=\"https://colab.research.google.com/assets/colab-badge.svg\" alt=\"Open In Colab\"/></a>"
      ]
    },
    {
      "metadata": {
        "id": "C8fdE8UNN7oj",
        "colab_type": "code",
        "colab": {}
      },
      "cell_type": "code",
      "source": [
        "import re\n",
        "import collections\n",
        "\n",
        "\n",
        "def main(text, simple):\n",
        "    if simple:\n",
        "        return\n",
        "\n",
        "    initial, *pairs = re.findall(r'[.#]+', text)\n",
        "    mapping = {a: b for a, b in zip(pairs[::2], pairs[1::2])}\n",
        "\n",
        "    pots = collections.defaultdict(lambda: '.')\n",
        "    pots.update({i: v for i, v in enumerate(initial)})\n",
        "    \n",
        "  \n",
        "    seen = {}\n",
        "    for n in range(1, 1000):\n",
        "        span = range(min(pots) - 5, max(pots) + 5)\n",
        "        new = {\n",
        "            i: mapping.get(window, '.')\n",
        "            for i in span\n",
        "            for window in [''.join(pots[i+j] for j in range(-2, 3))]\n",
        "        }\n",
        "        pots.clear()\n",
        "        pots.update(new)\n",
        "\n",
        "        if n == 19:\n",
        "            print(sum(i for i, v in pots.items() if v == '#'))\n",
        "\n",
        "        pattern = ''.join(pots[i] for i in span).strip('.')\n",
        "        if pattern in seen:\n",
        "            N = 50000000000\n",
        "            x = sum(N + i - n for i, v in pots.items() if v == '#')\n",
        "            print(x)\n",
        "            break\n",
        "        seen[pattern] = n"
      ],
      "execution_count": 0,
      "outputs": []
    }
  ]
}