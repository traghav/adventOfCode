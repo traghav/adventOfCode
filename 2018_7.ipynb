{
  "nbformat": 4,
  "nbformat_minor": 0,
  "metadata": {
    "colab": {
      "name": "2018_7.ipynb",
      "version": "0.3.2",
      "provenance": [],
      "include_colab_link": true
    },
    "kernelspec": {
      "name": "python2",
      "display_name": "Python 2"
    }
  },
  "cells": [
    {
      "cell_type": "markdown",
      "metadata": {
        "id": "view-in-github",
        "colab_type": "text"
      },
      "source": [
        "<a href=\"https://colab.research.google.com/github/traghav/adventOfCode/blob/master/2018_7.ipynb\" target=\"_parent\"><img src=\"https://colab.research.google.com/assets/colab-badge.svg\" alt=\"Open In Colab\"/></a>"
      ]
    },
    {
      "metadata": {
        "id": "huTP26VLCUKp",
        "colab_type": "code",
        "colab": {}
      },
      "cell_type": "code",
      "source": [
        ""
      ],
      "execution_count": 0,
      "outputs": []
    },
    {
      "metadata": {
        "id": "sUy4FF1SCWwO",
        "colab_type": "code",
        "colab": {}
      },
      "cell_type": "code",
      "source": [
        "from google.colab import files\n",
        "\n",
        "uploaded = files.upload()\n",
        "\n",
        "for fn in uploaded.keys():\n",
        "  print('User uploaded file \"{name}\" with length {length} bytes'.format(\n",
        "      name=fn, length=len(uploaded[fn])))"
      ],
      "execution_count": 0,
      "outputs": []
    },
    {
      "metadata": {
        "id": "uytUsdPPhUEW",
        "colab_type": "code",
        "colab": {
          "base_uri": "https://localhost:8080/",
          "height": 503
        },
        "outputId": "5c5896e8-0c13-4f1e-f274-e0ebb9947498"
      },
      "cell_type": "code",
      "source": [
        "import collections\n",
        "import re\n",
        "\n",
        "with open('input7') as f:\n",
        "  lines = [l.rstrip('\\n') for l in f]\n",
        "\n",
        "  alllet = set()\n",
        "  deps = collections.defaultdict(set)\n",
        "  for line in lines:\n",
        "    m = re.match(r'^Step (.) must be finished before step (.) can begin.$', line)\n",
        "    deps[m.group(2)].add(m.group(1))\n",
        "    alllet.add(m.group(2))\n",
        "    alllet.add(m.group(1))\n",
        "\n",
        "  reml = sorted(alllet)\n",
        "  done = set()\n",
        "  order = ''\n",
        "  while reml:\n",
        "    for i, c in enumerate(reml):\n",
        "      if not (deps[c] - done):\n",
        "        order += c\n",
        "        done.add(c)\n",
        "        del reml[i]\n",
        "        break\n",
        "  print order\n",
        "    \n",
        "  reml = sorted(alllet)\n",
        "  done_time = {}\n",
        "  busy_until = [0, 0, 0, 0, 0]\n",
        "  order = ''\n",
        "  time = 0\n",
        "  while reml:\n",
        "    if all(t > time for t in busy_until):\n",
        "      time = min(busy_until)\n",
        "    for i, c in enumerate(reml):\n",
        "      if all(d in done_time and done_time[d] <= time for d in deps[c]):\n",
        "        order += c\n",
        "        for ib, b in enumerate(busy_until):\n",
        "          if b <= time:\n",
        "            busy_until[ib] = time + 60 + ord(c) - 64\n",
        "            done_time[c] = busy_until[ib]\n",
        "            break\n",
        "        print c, 'starts at', time, 'done at', done_time[c]\n",
        "        del reml[i]\n",
        "        break\n",
        "    else:\n",
        "      time = min(t for t in busy_until if t > time)\n",
        "  \n",
        "  print max(busy_until)\n"
      ],
      "execution_count": 82,
      "outputs": [
        {
          "output_type": "stream",
          "text": [
            "CFMNLOAHRKPTWBJSYZVGUQXIDE\n",
            "C starts at 0 done at 63\n",
            "F starts at 0 done at 66\n",
            "N starts at 0 done at 74\n",
            "R starts at 0 done at 78\n",
            "M starts at 66 done at 139\n",
            "L starts at 74 done at 146\n",
            "O starts at 74 done at 149\n",
            "T starts at 74 done at 154\n",
            "K starts at 78 done at 149\n",
            "W starts at 139 done at 222\n",
            "A starts at 149 done at 210\n",
            "H starts at 149 done at 217\n",
            "P starts at 217 done at 293\n",
            "B starts at 222 done at 284\n",
            "J starts at 293 done at 363\n",
            "S starts at 293 done at 372\n",
            "Y starts at 293 done at 378\n",
            "Z starts at 363 done at 449\n",
            "V starts at 449 done at 531\n",
            "G starts at 531 done at 598\n",
            "U starts at 531 done at 612\n",
            "Q starts at 612 done at 689\n",
            "X starts at 689 done at 773\n",
            "I starts at 773 done at 842\n",
            "D starts at 842 done at 906\n",
            "E starts at 906 done at 971\n",
            "971\n"
          ],
          "name": "stdout"
        }
      ]
    },
    {
      "metadata": {
        "id": "71M2opvPY0d3",
        "colab_type": "code",
        "colab": {
          "base_uri": "https://localhost:8080/",
          "height": 34
        },
        "outputId": "509e2b45-7e26-4762-d8e3-9f577d21747e"
      },
      "cell_type": "code",
      "source": [
        "x=[2,23]\n",
        "print x[1:]"
      ],
      "execution_count": 66,
      "outputs": [
        {
          "output_type": "stream",
          "text": [
            "[23]\n"
          ],
          "name": "stdout"
        }
      ]
    }
  ]
}