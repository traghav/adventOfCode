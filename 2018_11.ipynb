{
  "nbformat": 4,
  "nbformat_minor": 0,
  "metadata": {
    "colab": {
      "name": "2018_11.ipynb",
      "version": "0.3.2",
      "provenance": [],
      "include_colab_link": true
    },
    "kernelspec": {
      "name": "python2",
      "display_name": "Python 2"
    }
  },
  "cells": [
    {
      "cell_type": "markdown",
      "metadata": {
        "id": "view-in-github",
        "colab_type": "text"
      },
      "source": [
        "<a href=\"https://colab.research.google.com/github/traghav/adventOfCode/blob/master/2018_11.ipynb\" target=\"_parent\"><img src=\"https://colab.research.google.com/assets/colab-badge.svg\" alt=\"Open In Colab\"/></a>"
      ]
    },
    {
      "metadata": {
        "id": "Rehn7qWQ2a5p",
        "colab_type": "code",
        "colab": {}
      },
      "cell_type": "code",
      "source": [
        "def calcpowerLevel(i,j,serial):\n",
        "    \n",
        "    rackID=i+10\n",
        "    powerLevel=j*rackID\n",
        "    powerLevel+=serial\n",
        "    powerLevel*=rackID\n",
        "    powerLevel=int(str(powerLevel)[-3])\n",
        "    return powerLevel-5"
      ],
      "execution_count": 0,
      "outputs": []
    },
    {
      "metadata": {
        "id": "oiOiCKuD0hmi",
        "colab_type": "code",
        "colab": {}
      },
      "cell_type": "code",
      "source": [
        "serial=8141\n",
        "grid=[[0 for x in range(300)] for y in range(300)]\n",
        "for i in range(1,301):\n",
        "  for j in range(1,301):\n",
        "    grid[i-1][j-1]=calcpowerLevel(i,j,serial)\n",
        "ma=0\n",
        "maxi=0\n",
        "maxj=0\n",
        "for i in range(297):\n",
        "  for j in range(297):\n",
        "    su=0\n",
        "    for a in range(3):\n",
        "      for b in range(3):\n",
        "        su=su+grid[i+a][j+b]\n",
        "    if(su>ma):\n",
        "      ma=su\n",
        "      maxi=i\n",
        "      maxj=j\n",
        "print(maxi+1,maxj+1)\n",
        "##part 2\n",
        "ma=0\n",
        "maxi=0\n",
        "maxj=0\n",
        "maxsize=0\n",
        "for size in range(300):\n",
        "  for i in range(300-size):\n",
        "    for j in range(300-size):\n",
        "      su=0\n",
        "      for a in range(size):\n",
        "        for b in range(size):\n",
        "          su=su+grid[i+a][j+b]\n",
        "      if(su>ma):\n",
        "        ma=su\n",
        "        maxi=i\n",
        "        maxj=j\n",
        "        maxsize=size\n",
        "  #print(size,maxsize,ma,maxi+1,maxj+1)\n",
        "print(maxi+1,maxj+1,maxsize)"
      ],
      "execution_count": 0,
      "outputs": []
    }
  ]
}