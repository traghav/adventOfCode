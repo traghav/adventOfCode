{
  "nbformat": 4,
  "nbformat_minor": 0,
  "metadata": {
    "colab": {
      "name": "2018_14.ipynb",
      "version": "0.3.2",
      "provenance": [],
      "include_colab_link": true
    },
    "kernelspec": {
      "name": "python3",
      "display_name": "Python 3"
    }
  },
  "cells": [
    {
      "cell_type": "markdown",
      "metadata": {
        "id": "view-in-github",
        "colab_type": "text"
      },
      "source": [
        "<a href=\"https://colab.research.google.com/github/traghav/adventOfCode/blob/master/2018_14.ipynb\" target=\"_parent\"><img src=\"https://colab.research.google.com/assets/colab-badge.svg\" alt=\"Open In Colab\"/></a>"
      ]
    },
    {
      "metadata": {
        "id": "T9Z5NQ7DS_2C",
        "colab_type": "code",
        "colab": {}
      },
      "cell_type": "code",
      "source": [
        "s='37'\n",
        "target='5'\n",
        "a=[3,7]\n",
        "elf1=0\n",
        "elf2=1\n",
        "limit=47801000\n",
        "limit+=10\n",
        "while(True):\n",
        "  elf1+=(a[elf1]+1)\n",
        "  if(elf1>=len(a)):\n",
        "    elf1%=len(a)\n",
        "  elf2+=(a[elf2]+1)\n",
        "  if(elf2>=len(a)):\n",
        "    elf2%=len(a)\n",
        "  #print (elf1,elf2)  \n",
        "  su=a[elf1]+a[elf2]\n",
        "  if(su<=9):\n",
        "    a.append(su)\n",
        "    s=s+str(su)\n",
        "  else:\n",
        "    a.append(int(su/10))\n",
        "    s=s+str(su/10)\n",
        "    a.append(su%10)\n",
        "    s=s+str(su%10)\n",
        "  if('51589' in s):\n",
        "    break\n",
        "    print (s.index('51589'))\n"
      ],
      "execution_count": 0,
      "outputs": []
    },
    {
      "metadata": {
        "id": "2ppyrZm1teWr",
        "colab_type": "code",
        "colab": {
          "base_uri": "https://localhost:8080/",
          "height": 34
        },
        "outputId": "ee58320b-634b-4115-e70e-5efee70210a6"
      },
      "cell_type": "code",
      "source": [
        "r = [3,7]\n",
        "a = 0\n",
        "b = 1\n",
        "\n",
        "def doit():\n",
        "    global a,b\n",
        "    s = r[a] + r[b]\n",
        "    r.extend(list(map(int,str(s))))\n",
        "    a = (a + r[a] + 1) % len(r)\n",
        "    b = (b + r[b] + 1) % len(r)\n",
        "\n",
        "while '260321' not in ''.join(map(str,r[-10:])):\n",
        "    doit()\n",
        "print(''.join(map(str,r)).index('047801'))"
      ],
      "execution_count": 48,
      "outputs": [
        {
          "output_type": "stream",
          "text": [
            "20235230\n"
          ],
          "name": "stdout"
        }
      ]
    }
  ]
}