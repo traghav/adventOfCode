{
  "nbformat": 4,
  "nbformat_minor": 0,
  "metadata": {
    "colab": {
      "name": "2018_9.ipynb",
      "version": "0.3.2",
      "provenance": [],
      "include_colab_link": true
    },
    "kernelspec": {
      "name": "python2",
      "display_name": "Python 2"
    }
  },
  "cells": [
    {
      "cell_type": "markdown",
      "metadata": {
        "id": "view-in-github",
        "colab_type": "text"
      },
      "source": [
        "<a href=\"https://colab.research.google.com/github/traghav/adventOfCode/blob/master/2018_9.ipynb\" target=\"_parent\"><img src=\"https://colab.research.google.com/assets/colab-badge.svg\" alt=\"Open In Colab\"/></a>"
      ]
    },
    {
      "metadata": {
        "id": "LQODZfu_z7HT",
        "colab_type": "code",
        "colab": {
          "base_uri": "https://localhost:8080/",
          "height": 52
        },
        "outputId": "84cbdeb2-d18e-4885-e1a3-de221ffdfb86"
      },
      "cell_type": "code",
      "source": [
        "import time\n",
        "import math\n",
        "import collections\n",
        "import re\n",
        "current_milli_time = lambda: int(round(time.time() * 1000))\n",
        "start = current_milli_time()\n",
        "\n",
        "players = 416\n",
        "lastpoint = 71617 *100\n",
        "\n",
        "circle = collections.deque()\n",
        "\n",
        "circle.append(0)\n",
        "\n",
        "elf = 0\n",
        "maxscore = 0\n",
        "scores = collections.defaultdict(int)\n",
        "player = 1\n",
        "for x in range(1, lastpoint+1):\n",
        "  if (x % 23) == 0:\n",
        "    circle.rotate(-7)\n",
        "    scores[player] += (x + circle.pop())\n",
        "    if scores[player] > maxscore:\n",
        "      maxscore = scores[player]\n",
        "      elf = player\n",
        "  else:\n",
        "    circle.rotate(2)\n",
        "    circle.append(x)\n",
        "  player += 1\n",
        "  if player > players:\n",
        "    player = 1\n",
        "\n",
        "print(elf, maxscore)\n",
        "\n",
        "print((current_milli_time() - start) / 1000.0)"
      ],
      "execution_count": 86,
      "outputs": [
        {
          "output_type": "stream",
          "text": [
            "(195, 3527845091)\n",
            "4.223\n"
          ],
          "name": "stdout"
        }
      ]
    },
    {
      "metadata": {
        "id": "-BP4lrNxxxO6",
        "colab_type": "code",
        "colab": {}
      },
      "cell_type": "code",
      "source": [
        ""
      ],
      "execution_count": 0,
      "outputs": []
    }
  ]
}